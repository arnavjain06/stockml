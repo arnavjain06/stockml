{
 "cells": [
  {
   "cell_type": "code",
   "execution_count": null,
   "metadata": {},
   "outputs": [],
   "source": []
  },
  {
   "cell_type": "code",
   "execution_count": 1,
   "metadata": {},
   "outputs": [],
   "source": [
    "# Data manipulation and analysis\n",
    "import pandas as pd\n",
    "import numpy as np\n",
    "\n",
    "# Data visualization\n",
    "import matplotlib.pyplot as plt\n",
    "import seaborn as sns\n",
    "\n",
    "# Your plotting code here\n",
    "import plotly.graph_objects as go\n",
    "import plotly.express as px\n",
    "\n",
    "# Machine learning and statistical analysis\n",
    "from sklearn.model_selection import train_test_split\n",
    "from sklearn.linear_model import LinearRegression\n",
    "from sklearn.metrics import mean_squared_error, r2_score\n",
    "import statsmodels.api as sm\n",
    "\n",
    "# Time series analysis\n",
    "from pmdarima import auto_arima\n",
    "\n",
    "# Financial data retrieval\n",
    "import yfinance as yf\n",
    "\n",
    "# Deep learning (if you plan to use neural networks)\n",
    "import tensorflow as tf\n",
    "from tensorflow import keras\n",
    "\n",
    "# Web scraping (if you need to collect additional data)\n",
    "from bs4 import BeautifulSoup\n",
    "import requests\n",
    "\n"
   ]
  },
  {
   "cell_type": "code",
   "execution_count": 3,
   "metadata": {},
   "outputs": [
    {
     "data": {
      "text/html": [
       "<div>\n",
       "<style scoped>\n",
       "    .dataframe tbody tr th:only-of-type {\n",
       "        vertical-align: middle;\n",
       "    }\n",
       "\n",
       "    .dataframe tbody tr th {\n",
       "        vertical-align: top;\n",
       "    }\n",
       "\n",
       "    .dataframe thead th {\n",
       "        text-align: right;\n",
       "    }\n",
       "</style>\n",
       "<table border=\"1\" class=\"dataframe\">\n",
       "  <thead>\n",
       "    <tr style=\"text-align: right;\">\n",
       "      <th></th>\n",
       "      <th>datetime</th>\n",
       "      <th>open</th>\n",
       "      <th>high</th>\n",
       "      <th>low</th>\n",
       "      <th>close</th>\n",
       "      <th>volume</th>\n",
       "    </tr>\n",
       "  </thead>\n",
       "  <tbody>\n",
       "    <tr>\n",
       "      <th>0</th>\n",
       "      <td>1999-01-22 19:00:00</td>\n",
       "      <td>5.56</td>\n",
       "      <td>5.86</td>\n",
       "      <td>4.65</td>\n",
       "      <td>4.75</td>\n",
       "      <td>3030600</td>\n",
       "    </tr>\n",
       "    <tr>\n",
       "      <th>1</th>\n",
       "      <td>1999-01-22 20:00:00</td>\n",
       "      <td>4.75</td>\n",
       "      <td>5.36</td>\n",
       "      <td>4.71</td>\n",
       "      <td>5.12</td>\n",
       "      <td>1259000</td>\n",
       "    </tr>\n",
       "    <tr>\n",
       "      <th>2</th>\n",
       "      <td>1999-01-22 21:00:00</td>\n",
       "      <td>5.12</td>\n",
       "      <td>5.40</td>\n",
       "      <td>5.00</td>\n",
       "      <td>5.00</td>\n",
       "      <td>418900</td>\n",
       "    </tr>\n",
       "    <tr>\n",
       "      <th>3</th>\n",
       "      <td>1999-01-22 22:00:00</td>\n",
       "      <td>5.03</td>\n",
       "      <td>5.25</td>\n",
       "      <td>4.87</td>\n",
       "      <td>4.90</td>\n",
       "      <td>621800</td>\n",
       "    </tr>\n",
       "    <tr>\n",
       "      <th>4</th>\n",
       "      <td>1999-01-25 16:00:00</td>\n",
       "      <td>5.31</td>\n",
       "      <td>5.31</td>\n",
       "      <td>4.92</td>\n",
       "      <td>4.98</td>\n",
       "      <td>271400</td>\n",
       "    </tr>\n",
       "  </tbody>\n",
       "</table>\n",
       "</div>"
      ],
      "text/plain": [
       "              datetime  open  high   low  close   volume\n",
       "0  1999-01-22 19:00:00  5.56  5.86  4.65   4.75  3030600\n",
       "1  1999-01-22 20:00:00  4.75  5.36  4.71   5.12  1259000\n",
       "2  1999-01-22 21:00:00  5.12  5.40  5.00   5.00   418900\n",
       "3  1999-01-22 22:00:00  5.03  5.25  4.87   4.90   621800\n",
       "4  1999-01-25 16:00:00  5.31  5.31  4.92   4.98   271400"
      ]
     },
     "execution_count": 3,
     "metadata": {},
     "output_type": "execute_result"
    }
   ],
   "source": [
    "file_path = '/Users/arnavjain/Desktop/Stock/archive/H1/NVDA.US_H1.csv'\n",
    "\n",
    "df = pd.read_csv(file_path)\n",
    "\n",
    "df.head()"
   ]
  },
  {
   "cell_type": "code",
   "execution_count": 4,
   "metadata": {},
   "outputs": [
    {
     "data": {
      "text/html": [
       "<div>\n",
       "<style scoped>\n",
       "    .dataframe tbody tr th:only-of-type {\n",
       "        vertical-align: middle;\n",
       "    }\n",
       "\n",
       "    .dataframe tbody tr th {\n",
       "        vertical-align: top;\n",
       "    }\n",
       "\n",
       "    .dataframe thead th {\n",
       "        text-align: right;\n",
       "    }\n",
       "</style>\n",
       "<table border=\"1\" class=\"dataframe\">\n",
       "  <thead>\n",
       "    <tr style=\"text-align: right;\">\n",
       "      <th></th>\n",
       "      <th>datetime</th>\n",
       "      <th>open</th>\n",
       "      <th>high</th>\n",
       "      <th>low</th>\n",
       "      <th>close</th>\n",
       "      <th>volume</th>\n",
       "    </tr>\n",
       "  </thead>\n",
       "  <tbody>\n",
       "    <tr>\n",
       "      <th>44870</th>\n",
       "      <td>2024-03-13 19:00:00</td>\n",
       "      <td>893.24</td>\n",
       "      <td>894.20</td>\n",
       "      <td>887.50</td>\n",
       "      <td>893.25</td>\n",
       "      <td>3258627</td>\n",
       "    </tr>\n",
       "    <tr>\n",
       "      <th>44871</th>\n",
       "      <td>2024-03-13 20:00:00</td>\n",
       "      <td>893.21</td>\n",
       "      <td>907.70</td>\n",
       "      <td>893.05</td>\n",
       "      <td>903.37</td>\n",
       "      <td>5345738</td>\n",
       "    </tr>\n",
       "    <tr>\n",
       "      <th>44872</th>\n",
       "      <td>2024-03-13 21:00:00</td>\n",
       "      <td>903.27</td>\n",
       "      <td>908.77</td>\n",
       "      <td>898.30</td>\n",
       "      <td>905.23</td>\n",
       "      <td>3964885</td>\n",
       "    </tr>\n",
       "    <tr>\n",
       "      <th>44873</th>\n",
       "      <td>2024-03-13 22:00:00</td>\n",
       "      <td>905.02</td>\n",
       "      <td>915.04</td>\n",
       "      <td>903.14</td>\n",
       "      <td>908.65</td>\n",
       "      <td>6569262</td>\n",
       "    </tr>\n",
       "    <tr>\n",
       "      <th>44874</th>\n",
       "      <td>2024-03-13 23:00:00</td>\n",
       "      <td>908.78</td>\n",
       "      <td>909.20</td>\n",
       "      <td>908.54</td>\n",
       "      <td>908.98</td>\n",
       "      <td>20187</td>\n",
       "    </tr>\n",
       "  </tbody>\n",
       "</table>\n",
       "</div>"
      ],
      "text/plain": [
       "                  datetime    open    high     low   close   volume\n",
       "44870  2024-03-13 19:00:00  893.24  894.20  887.50  893.25  3258627\n",
       "44871  2024-03-13 20:00:00  893.21  907.70  893.05  903.37  5345738\n",
       "44872  2024-03-13 21:00:00  903.27  908.77  898.30  905.23  3964885\n",
       "44873  2024-03-13 22:00:00  905.02  915.04  903.14  908.65  6569262\n",
       "44874  2024-03-13 23:00:00  908.78  909.20  908.54  908.98    20187"
      ]
     },
     "execution_count": 4,
     "metadata": {},
     "output_type": "execute_result"
    }
   ],
   "source": [
    "df.tail()"
   ]
  },
  {
   "cell_type": "code",
   "execution_count": 5,
   "metadata": {},
   "outputs": [
    {
     "data": {
      "text/plain": [
       "Index(['datetime', 'open', 'high', 'low', 'close', 'volume'], dtype='object')"
      ]
     },
     "execution_count": 5,
     "metadata": {},
     "output_type": "execute_result"
    }
   ],
   "source": [
    "df.columns"
   ]
  },
  {
   "cell_type": "code",
   "execution_count": 6,
   "metadata": {},
   "outputs": [
    {
     "data": {
      "text/plain": [
       "datetime    0\n",
       "open        0\n",
       "high        0\n",
       "low         0\n",
       "close       0\n",
       "volume      0\n",
       "dtype: int64"
      ]
     },
     "execution_count": 6,
     "metadata": {},
     "output_type": "execute_result"
    }
   ],
   "source": [
    "df.isnull().sum()"
   ]
  },
  {
   "cell_type": "code",
   "execution_count": null,
   "metadata": {},
   "outputs": [],
   "source": []
  },
  {
   "cell_type": "code",
   "execution_count": null,
   "metadata": {},
   "outputs": [],
   "source": []
  },
  {
   "cell_type": "code",
   "execution_count": null,
   "metadata": {},
   "outputs": [],
   "source": []
  },
  {
   "cell_type": "code",
   "execution_count": null,
   "metadata": {},
   "outputs": [],
   "source": []
  },
  {
   "cell_type": "code",
   "execution_count": null,
   "metadata": {},
   "outputs": [],
   "source": []
  },
  {
   "cell_type": "code",
   "execution_count": null,
   "metadata": {},
   "outputs": [],
   "source": []
  },
  {
   "cell_type": "code",
   "execution_count": null,
   "metadata": {},
   "outputs": [],
   "source": []
  }
 ],
 "metadata": {
  "kernelspec": {
   "display_name": "Python 3 (ipykernel)",
   "language": "python",
   "name": "python3"
  },
  "language_info": {
   "codemirror_mode": {
    "name": "ipython",
    "version": 3
   },
   "file_extension": ".py",
   "mimetype": "text/x-python",
   "name": "python",
   "nbconvert_exporter": "python",
   "pygments_lexer": "ipython3",
   "version": "3.11.5"
  }
 },
 "nbformat": 4,
 "nbformat_minor": 4
}
