{
 "cells": [
  {
   "cell_type": "code",
   "execution_count": null,
   "metadata": {},
   "outputs": [],
   "source": []
  },
  {
   "cell_type": "code",
   "execution_count": 9,
   "metadata": {},
   "outputs": [],
   "source": [
    "# Data manipulation and analysis\n",
    "import pandas as pd\n",
    "import numpy as np\n",
    "\n",
    "# Data visualization\n",
    "import matplotlib.pyplot as plt\n",
    "import seaborn as sns\n",
    "\n",
    "# Your plotting code here\n",
    "import plotly.graph_objects as go\n",
    "import plotly.express as px\n",
    "\n",
    "# Machine learning and statistical analysis\n",
    "from sklearn.model_selection import train_test_split\n",
    "from sklearn.linear_model import LinearRegression\n",
    "from sklearn.metrics import mean_squared_error, r2_score\n",
    "import statsmodels.api as sm\n",
    "\n",
    "# Time series analysis\n",
    "from pmdarima import auto_arima\n",
    "\n",
    "# Financial data retrieval\n",
    "import yfinance as yf\n",
    "from datetime import date\n",
    "\n",
    "# Deep learning (if you plan to use neural networks)\n",
    "import tensorflow as tf\n",
    "from tensorflow import keras\n",
    "\n",
    "# Web scraping (if you need to collect additional data)\n",
    "from bs4 import BeautifulSoup\n",
    "import requests\n",
    "\n"
   ]
  },
  {
   "cell_type": "code",
   "execution_count": 14,
   "metadata": {},
   "outputs": [
    {
     "name": "stderr",
     "output_type": "stream",
     "text": [
      "[*********************100%%**********************]  1 of 1 completed\n"
     ]
    }
   ],
   "source": [
    "START = \"2015-01-01\"\n",
    "TODAY = date.today().strftime(\"%Y-%m-%d\")\n",
    "\n",
    "df = yf.download('NVDA', START, TODAY)"
   ]
  },
  {
   "cell_type": "code",
   "execution_count": 15,
   "metadata": {},
   "outputs": [
    {
     "data": {
      "text/html": [
       "<div>\n",
       "<style scoped>\n",
       "    .dataframe tbody tr th:only-of-type {\n",
       "        vertical-align: middle;\n",
       "    }\n",
       "\n",
       "    .dataframe tbody tr th {\n",
       "        vertical-align: top;\n",
       "    }\n",
       "\n",
       "    .dataframe thead th {\n",
       "        text-align: right;\n",
       "    }\n",
       "</style>\n",
       "<table border=\"1\" class=\"dataframe\">\n",
       "  <thead>\n",
       "    <tr style=\"text-align: right;\">\n",
       "      <th></th>\n",
       "      <th>Open</th>\n",
       "      <th>High</th>\n",
       "      <th>Low</th>\n",
       "      <th>Close</th>\n",
       "      <th>Adj Close</th>\n",
       "      <th>Volume</th>\n",
       "    </tr>\n",
       "    <tr>\n",
       "      <th>Date</th>\n",
       "      <th></th>\n",
       "      <th></th>\n",
       "      <th></th>\n",
       "      <th></th>\n",
       "      <th></th>\n",
       "      <th></th>\n",
       "    </tr>\n",
       "  </thead>\n",
       "  <tbody>\n",
       "    <tr>\n",
       "      <th>2015-01-02</th>\n",
       "      <td>0.50325</td>\n",
       "      <td>0.50700</td>\n",
       "      <td>0.49525</td>\n",
       "      <td>0.50325</td>\n",
       "      <td>0.483218</td>\n",
       "      <td>113680000</td>\n",
       "    </tr>\n",
       "    <tr>\n",
       "      <th>2015-01-05</th>\n",
       "      <td>0.50325</td>\n",
       "      <td>0.50475</td>\n",
       "      <td>0.49250</td>\n",
       "      <td>0.49475</td>\n",
       "      <td>0.475056</td>\n",
       "      <td>197952000</td>\n",
       "    </tr>\n",
       "    <tr>\n",
       "      <th>2015-01-06</th>\n",
       "      <td>0.49550</td>\n",
       "      <td>0.49600</td>\n",
       "      <td>0.47925</td>\n",
       "      <td>0.47975</td>\n",
       "      <td>0.460654</td>\n",
       "      <td>197764000</td>\n",
       "    </tr>\n",
       "    <tr>\n",
       "      <th>2015-01-07</th>\n",
       "      <td>0.48325</td>\n",
       "      <td>0.48750</td>\n",
       "      <td>0.47700</td>\n",
       "      <td>0.47850</td>\n",
       "      <td>0.459453</td>\n",
       "      <td>321808000</td>\n",
       "    </tr>\n",
       "    <tr>\n",
       "      <th>2015-01-08</th>\n",
       "      <td>0.48400</td>\n",
       "      <td>0.49950</td>\n",
       "      <td>0.48375</td>\n",
       "      <td>0.49650</td>\n",
       "      <td>0.476737</td>\n",
       "      <td>283780000</td>\n",
       "    </tr>\n",
       "  </tbody>\n",
       "</table>\n",
       "</div>"
      ],
      "text/plain": [
       "               Open     High      Low    Close  Adj Close     Volume\n",
       "Date                                                                \n",
       "2015-01-02  0.50325  0.50700  0.49525  0.50325   0.483218  113680000\n",
       "2015-01-05  0.50325  0.50475  0.49250  0.49475   0.475056  197952000\n",
       "2015-01-06  0.49550  0.49600  0.47925  0.47975   0.460654  197764000\n",
       "2015-01-07  0.48325  0.48750  0.47700  0.47850   0.459453  321808000\n",
       "2015-01-08  0.48400  0.49950  0.48375  0.49650   0.476737  283780000"
      ]
     },
     "execution_count": 15,
     "metadata": {},
     "output_type": "execute_result"
    }
   ],
   "source": [
    "df.head()"
   ]
  },
  {
   "cell_type": "code",
   "execution_count": 16,
   "metadata": {},
   "outputs": [
    {
     "data": {
      "text/html": [
       "<div>\n",
       "<style scoped>\n",
       "    .dataframe tbody tr th:only-of-type {\n",
       "        vertical-align: middle;\n",
       "    }\n",
       "\n",
       "    .dataframe tbody tr th {\n",
       "        vertical-align: top;\n",
       "    }\n",
       "\n",
       "    .dataframe thead th {\n",
       "        text-align: right;\n",
       "    }\n",
       "</style>\n",
       "<table border=\"1\" class=\"dataframe\">\n",
       "  <thead>\n",
       "    <tr style=\"text-align: right;\">\n",
       "      <th></th>\n",
       "      <th>Open</th>\n",
       "      <th>High</th>\n",
       "      <th>Low</th>\n",
       "      <th>Close</th>\n",
       "      <th>Adj Close</th>\n",
       "      <th>Volume</th>\n",
       "    </tr>\n",
       "    <tr>\n",
       "      <th>Date</th>\n",
       "      <th></th>\n",
       "      <th></th>\n",
       "      <th></th>\n",
       "      <th></th>\n",
       "      <th></th>\n",
       "      <th></th>\n",
       "    </tr>\n",
       "  </thead>\n",
       "  <tbody>\n",
       "    <tr>\n",
       "      <th>2024-07-11</th>\n",
       "      <td>135.750000</td>\n",
       "      <td>136.149994</td>\n",
       "      <td>127.050003</td>\n",
       "      <td>127.400002</td>\n",
       "      <td>127.400002</td>\n",
       "      <td>374782700</td>\n",
       "    </tr>\n",
       "    <tr>\n",
       "      <th>2024-07-12</th>\n",
       "      <td>128.259995</td>\n",
       "      <td>131.919998</td>\n",
       "      <td>127.220001</td>\n",
       "      <td>129.240005</td>\n",
       "      <td>129.240005</td>\n",
       "      <td>252103100</td>\n",
       "    </tr>\n",
       "    <tr>\n",
       "      <th>2024-07-15</th>\n",
       "      <td>130.559998</td>\n",
       "      <td>131.389999</td>\n",
       "      <td>127.180000</td>\n",
       "      <td>128.440002</td>\n",
       "      <td>128.440002</td>\n",
       "      <td>208326200</td>\n",
       "    </tr>\n",
       "    <tr>\n",
       "      <th>2024-07-16</th>\n",
       "      <td>128.440002</td>\n",
       "      <td>129.039993</td>\n",
       "      <td>124.580002</td>\n",
       "      <td>126.360001</td>\n",
       "      <td>126.360001</td>\n",
       "      <td>214769500</td>\n",
       "    </tr>\n",
       "    <tr>\n",
       "      <th>2024-07-17</th>\n",
       "      <td>121.349998</td>\n",
       "      <td>121.849998</td>\n",
       "      <td>116.720001</td>\n",
       "      <td>117.989998</td>\n",
       "      <td>117.989998</td>\n",
       "      <td>390086200</td>\n",
       "    </tr>\n",
       "  </tbody>\n",
       "</table>\n",
       "</div>"
      ],
      "text/plain": [
       "                  Open        High         Low       Close   Adj Close  \\\n",
       "Date                                                                     \n",
       "2024-07-11  135.750000  136.149994  127.050003  127.400002  127.400002   \n",
       "2024-07-12  128.259995  131.919998  127.220001  129.240005  129.240005   \n",
       "2024-07-15  130.559998  131.389999  127.180000  128.440002  128.440002   \n",
       "2024-07-16  128.440002  129.039993  124.580002  126.360001  126.360001   \n",
       "2024-07-17  121.349998  121.849998  116.720001  117.989998  117.989998   \n",
       "\n",
       "               Volume  \n",
       "Date                   \n",
       "2024-07-11  374782700  \n",
       "2024-07-12  252103100  \n",
       "2024-07-15  208326200  \n",
       "2024-07-16  214769500  \n",
       "2024-07-17  390086200  "
      ]
     },
     "execution_count": 16,
     "metadata": {},
     "output_type": "execute_result"
    }
   ],
   "source": [
    "df.tail()"
   ]
  },
  {
   "cell_type": "code",
   "execution_count": 17,
   "metadata": {},
   "outputs": [
    {
     "name": "stderr",
     "output_type": "stream",
     "text": [
      "/var/folders/9c/05w4rdjs1vvb64bsgybb_vkc0000gn/T/ipykernel_67527/2844218157.py:3: FutureWarning: DataFrame.fillna with 'method' is deprecated and will raise in a future version. Use obj.ffill() or obj.bfill() instead.\n",
      "  df = df.fillna(method='ffill')  # Forward fill missing values\n"
     ]
    }
   ],
   "source": [
    "df = df[['Close']]\n",
    "df = df.asfreq('D')  # Ensure daily frequency\n",
    "df = df.fillna(method='ffill')  # Forward fill missing values\n",
    "\n",
    "\n",
    "\n",
    "\n"
   ]
  },
  {
   "cell_type": "code",
   "execution_count": 18,
   "metadata": {},
   "outputs": [],
   "source": [
    "# Split the data into training and testing sets\n",
    "train_size = int(len(df) * 0.8)\n",
    "train, test = df[:train_size], df[train_size:]"
   ]
  },
  {
   "cell_type": "code",
   "execution_count": 19,
   "metadata": {},
   "outputs": [],
   "source": [
    "from statsmodels.tsa.arima.model import ARIMA\n",
    "from sklearn.metrics import mean_squared_error\n",
    "\n",
    "# Fit the ARIMA model\n",
    "model = ARIMA(train['Close'], order=(5,1,0))\n",
    "model_fit = model.fit()"
   ]
  },
  {
   "cell_type": "code",
   "execution_count": 20,
   "metadata": {},
   "outputs": [
    {
     "name": "stdout",
     "output_type": "stream",
     "text": [
      "RMSE: 43.765441730887574\n"
     ]
    }
   ],
   "source": [
    "\n",
    "# Make predictions\n",
    "predictions = model_fit.forecast(steps=len(test))\n",
    "\n",
    "# Calculate RMSE\n",
    "rmse = np.sqrt(mean_squared_error(test['Close'], predictions))\n",
    "print(f'RMSE: {rmse}')"
   ]
  },
  {
   "cell_type": "code",
   "execution_count": 21,
   "metadata": {},
   "outputs": [
    {
     "data": {
      "image/png": "[encoded data removed]",
      "text/plain": [
       "<Figure size 1200x600 with 1 Axes>"
      ]
     },
     "metadata": {},
     "output_type": "display_data"
    },
    {
     "name": "stdout",
     "output_type": "stream",
     "text": [
      "                 Date  Predicted Price\n",
      "2022-08-21 2024-07-18        17.939653\n",
      "2022-08-22 2024-07-19        17.881933\n",
      "2022-08-23 2024-07-20        17.900735\n",
      "2022-08-24 2024-07-21        17.904790\n",
      "2022-08-25 2024-07-22        17.898793\n",
      "2022-08-26 2024-07-23        17.901233\n",
      "2022-08-27 2024-07-24        17.901087\n",
      "2022-08-28 2024-07-25        17.900635\n",
      "2022-08-29 2024-07-26        17.900922\n",
      "2022-08-30 2024-07-27        17.900858\n",
      "2022-08-31 2024-07-28        17.900833\n",
      "2022-09-01 2024-07-29        17.900861\n",
      "2022-09-02 2024-07-30        17.900850\n",
      "2022-09-03 2024-07-31        17.900850\n",
      "2022-09-04 2024-08-01        17.900852\n",
      "2022-09-05 2024-08-02        17.900851\n",
      "2022-09-06 2024-08-03        17.900851\n",
      "2022-09-07 2024-08-04        17.900852\n",
      "2022-09-08 2024-08-05        17.900851\n",
      "2022-09-09 2024-08-06        17.900851\n",
      "2022-09-10 2024-08-07        17.900851\n",
      "2022-09-11 2024-08-08        17.900851\n",
      "2022-09-12 2024-08-09        17.900851\n",
      "2022-09-13 2024-08-10        17.900851\n",
      "2022-09-14 2024-08-11        17.900851\n",
      "2022-09-15 2024-08-12        17.900851\n",
      "2022-09-16 2024-08-13        17.900851\n",
      "2022-09-17 2024-08-14        17.900851\n",
      "2022-09-18 2024-08-15        17.900851\n",
      "2022-09-19 2024-08-16        17.900851\n"
     ]
    }
   ],
   "source": [
    "# Plot the results\n",
    "plt.figure(figsize=(12,6))\n",
    "plt.plot(train.index, train['Close'], label='Training Data')\n",
    "plt.plot(test.index, test['Close'], label='Actual Price')\n",
    "plt.plot(test.index, predictions, color='red', label='Predicted Price')\n",
    "plt.title('NVIDIA Stock Price Prediction')\n",
    "plt.xlabel('Date')\n",
    "plt.ylabel('Close Price')\n",
    "plt.legend()\n",
    "plt.show()\n",
    "\n",
    "# Predict the next 30 days\n",
    "future_predictions = model_fit.forecast(steps=30)\n",
    "future_dates = pd.date_range(start=TODAY, periods=30)\n",
    "future_df = pd.DataFrame({'Date': future_dates, 'Predicted Price': future_predictions})\n",
    "print(future_df)"
   ]
  },
  {
   "cell_type": "code",
   "execution_count": null,
   "metadata": {},
   "outputs": [],
   "source": []
  },
  {
   "cell_type": "code",
   "execution_count": null,
   "metadata": {},
   "outputs": [],
   "source": []
  }
 ],
 "metadata": {
  "kernelspec": {
   "display_name": "Python 3 (ipykernel)",
   "language": "python",
   "name": "python3"
  },
  "language_info": {
   "codemirror_mode": {
    "name": "ipython",
    "version": 3
   },
   "file_extension": ".py",
   "mimetype": "text/x-python",
   "name": "python",
   "nbconvert_exporter": "python",
   "pygments_lexer": "ipython3",
   "version": "3.11.5"
  }
 },
 "nbformat": 4,
 "nbformat_minor": 4
}
